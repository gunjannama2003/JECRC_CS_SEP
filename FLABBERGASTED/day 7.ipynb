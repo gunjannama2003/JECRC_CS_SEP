{
 "cells": [
  {
   "cell_type": "code",
   "execution_count": 1,
   "id": "3d6fa7c8-5452-4ac5-90f1-01bf19e9f922",
   "metadata": {},
   "outputs": [
    {
     "data": {
      "text/plain": [
       "7"
      ]
     },
     "execution_count": 1,
     "metadata": {},
     "output_type": "execute_result"
    }
   ],
   "source": [
    "3+4"
   ]
  },
  {
   "cell_type": "code",
   "execution_count": 2,
   "id": "296a7e6c-da82-43b3-8123-2b994c38af55",
   "metadata": {},
   "outputs": [
    {
     "name": "stdout",
     "output_type": "stream",
     "text": [
      "Hello\n"
     ]
    }
   ],
   "source": [
    "print(\"Hello\")"
   ]
  },
  {
   "cell_type": "markdown",
   "id": "06d9939c-d219-4be4-9814-ae567b4c0297",
   "metadata": {},
   "source": [
    "# 1st heading"
   ]
  },
  {
   "cell_type": "markdown",
   "id": "87ef310d-3369-4e41-b50e-ffb36e72d410",
   "metadata": {},
   "source": [
    "## 2nd heading"
   ]
  },
  {
   "cell_type": "markdown",
   "id": "6849f8d8-09ab-4944-989c-a5df7b6c6983",
   "metadata": {},
   "source": [
    "#### subheading"
   ]
  },
  {
   "cell_type": "markdown",
   "id": "7132df68-9015-43b1-830d-dd0951bca569",
   "metadata": {},
   "source": [
    "* this is 1st point\n",
    "* this is 2nd point"
   ]
  },
  {
   "cell_type": "markdown",
   "id": "2bde9adb-4a7d-49c4-837d-d6c4ba36741f",
   "metadata": {},
   "source": [
    "1.this is 3rd point\n"
   ]
  },
  {
   "cell_type": "markdown",
   "id": "e0228ba7-a3dc-4ae6-a816-241ea108eadc",
   "metadata": {},
   "source": [
    "2.this is 4th point"
   ]
  },
  {
   "cell_type": "code",
   "execution_count": 3,
   "id": "b0e2dbfa-3999-4673-b76d-38aa93695092",
   "metadata": {},
   "outputs": [],
   "source": [
    "import os"
   ]
  },
  {
   "cell_type": "code",
   "execution_count": 4,
   "id": "060abccc-6c8c-4798-8101-1172f61e3e89",
   "metadata": {},
   "outputs": [
    {
     "data": {
      "text/plain": [
       "'C:\\\\Users\\\\user\\\\Desktop'"
      ]
     },
     "execution_count": 4,
     "metadata": {},
     "output_type": "execute_result"
    }
   ],
   "source": [
    "os.getcwd()"
   ]
  },
  {
   "cell_type": "code",
   "execution_count": 5,
   "id": "db69dc3e-23ac-415d-ba81-8344894c2af5",
   "metadata": {},
   "outputs": [
    {
     "data": {
      "text/plain": [
       "['.ipynb_checkpoints',\n",
       " '330e516d634d34d9937d4122d032ca1e.jpg',\n",
       " 'day 7',\n",
       " 'day 7.ipynb']"
      ]
     },
     "execution_count": 5,
     "metadata": {},
     "output_type": "execute_result"
    }
   ],
   "source": [
    "os.listdir('C:\\\\Users\\\\user\\\\Desktop')"
   ]
  },
  {
   "cell_type": "code",
   "execution_count": 6,
   "id": "11929b32-6d8a-4246-ab40-beba5e72dfc4",
   "metadata": {},
   "outputs": [
    {
     "ename": "NameError",
     "evalue": "name 'random' is not defined",
     "output_type": "error",
     "traceback": [
      "\u001b[1;31m---------------------------------------------------------------------------\u001b[0m",
      "\u001b[1;31mNameError\u001b[0m                                 Traceback (most recent call last)",
      "Input \u001b[1;32mIn [6]\u001b[0m, in \u001b[0;36m<cell line: 1>\u001b[1;34m()\u001b[0m\n\u001b[1;32m----> 1\u001b[0m val2 \u001b[38;5;241m=\u001b[39m \u001b[43mrandom\u001b[49m\u001b[38;5;241m.\u001b[39mrandint(\u001b[38;5;241m1\u001b[39m,\u001b[38;5;241m10\u001b[39m)\n",
      "\u001b[1;31mNameError\u001b[0m: name 'random' is not defined"
     ]
    }
   ],
   "source": [
    "val2 = random.randint(1,10)"
   ]
  },
  {
   "cell_type": "code",
   "execution_count": 7,
   "id": "3d24b970-1d9b-48e6-b94b-33efcc79c0ae",
   "metadata": {},
   "outputs": [],
   "source": [
    "import random"
   ]
  },
  {
   "cell_type": "code",
   "execution_count": 8,
   "id": "dcbbd9a2-4069-406a-b30f-67c41be6d14e",
   "metadata": {},
   "outputs": [
    {
     "name": "stdout",
     "output_type": "stream",
     "text": [
      "garvit\n"
     ]
    }
   ],
   "source": [
    "m=['garvit','gaurav','kalpit','harsh']\n",
    "val=random.choice(m)\n",
    "print(val)"
   ]
  },
  {
   "cell_type": "code",
   "execution_count": 9,
   "id": "8124f582-3904-46ca-a792-44ad3fb65b96",
   "metadata": {},
   "outputs": [
    {
     "name": "stdout",
     "output_type": "stream",
     "text": [
      "['harsh', 'kalpit']\n"
     ]
    }
   ],
   "source": [
    "m=['garvit','gaurav','kalpit','harsh']\n",
    "val=random.choices(m,k=2)\n",
    "print(val)"
   ]
  },
  {
   "cell_type": "code",
   "execution_count": 10,
   "id": "de11b5dc-008c-4fc0-8694-b4e7edb8bad2",
   "metadata": {},
   "outputs": [
    {
     "ename": "TypeError",
     "evalue": "Random.random() takes no arguments (1 given)",
     "output_type": "error",
     "traceback": [
      "\u001b[1;31m---------------------------------------------------------------------------\u001b[0m",
      "\u001b[1;31mTypeError\u001b[0m                                 Traceback (most recent call last)",
      "Input \u001b[1;32mIn [10]\u001b[0m, in \u001b[0;36m<cell line: 2>\u001b[1;34m()\u001b[0m\n\u001b[0;32m      1\u001b[0m \u001b[38;5;66;03m#shuffle\u001b[39;00m\n\u001b[1;32m----> 2\u001b[0m \u001b[43mrandom\u001b[49m\u001b[38;5;241;43m.\u001b[39;49m\u001b[43mrandom\u001b[49m\u001b[43m(\u001b[49m\u001b[43mm\u001b[49m\u001b[43m)\u001b[49m\n\u001b[0;32m      3\u001b[0m \u001b[38;5;28mprint\u001b[39m(m)\n",
      "\u001b[1;31mTypeError\u001b[0m: Random.random() takes no arguments (1 given)"
     ]
    }
   ],
   "source": [
    "#shuffle\n",
    "random.random(m)\n",
    "print(m)"
   ]
  },
  {
   "cell_type": "code",
   "execution_count": 11,
   "id": "2c9330f3-d9f5-4bd0-a49e-14dd1171f665",
   "metadata": {},
   "outputs": [
    {
     "name": "stdout",
     "output_type": "stream",
     "text": [
      "['garvit', 'harsh', 'gaurav', 'kalpit']\n"
     ]
    }
   ],
   "source": [
    "#shuffle\n",
    "random.shuffle(m)\n",
    "print(m)"
   ]
  },
  {
   "cell_type": "code",
   "execution_count": null,
   "id": "101ce046-e7ed-43df-a7d0-a02c126ba21b",
   "metadata": {},
   "outputs": [],
   "source": []
  }
 ],
 "metadata": {
  "kernelspec": {
   "display_name": "Python 3 (ipykernel)",
   "language": "python",
   "name": "python3"
  },
  "language_info": {
   "codemirror_mode": {
    "name": "ipython",
    "version": 3
   },
   "file_extension": ".py",
   "mimetype": "text/x-python",
   "name": "python",
   "nbconvert_exporter": "python",
   "pygments_lexer": "ipython3",
   "version": "3.9.12"
  }
 },
 "nbformat": 4,
 "nbformat_minor": 5
}
