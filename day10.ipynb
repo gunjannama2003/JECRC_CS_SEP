{
 "cells": [
  {
   "cell_type": "code",
   "execution_count": 1,
   "id": "9177643e-15eb-43b2-b0e7-c963dafccfe2",
   "metadata": {},
   "outputs": [],
   "source": [
    "import pandas as pd"
   ]
  },
  {
   "cell_type": "code",
   "execution_count": 2,
   "id": "55286bda-60c6-4d9b-8635-1d3d38fb4c2e",
   "metadata": {},
   "outputs": [
    {
     "ename": "EmptyDataError",
     "evalue": "No columns to parse from file",
     "output_type": "error",
     "traceback": [
      "\u001b[1;31m---------------------------------------------------------------------------\u001b[0m",
      "\u001b[1;31mStopIteration\u001b[0m                             Traceback (most recent call last)",
      "File \u001b[1;32m~\\anaconda3\\lib\\site-packages\\pandas\\io\\parsers\\python_parser.py:364\u001b[0m, in \u001b[0;36mPythonParser._infer_columns\u001b[1;34m(self)\u001b[0m\n\u001b[0;32m    363\u001b[0m \u001b[38;5;28;01mtry\u001b[39;00m:\n\u001b[1;32m--> 364\u001b[0m     line \u001b[38;5;241m=\u001b[39m \u001b[38;5;28;43mself\u001b[39;49m\u001b[38;5;241;43m.\u001b[39;49m\u001b[43m_buffered_line\u001b[49m\u001b[43m(\u001b[49m\u001b[43m)\u001b[49m\n\u001b[0;32m    366\u001b[0m     \u001b[38;5;28;01mwhile\u001b[39;00m \u001b[38;5;28mself\u001b[39m\u001b[38;5;241m.\u001b[39mline_pos \u001b[38;5;241m<\u001b[39m\u001b[38;5;241m=\u001b[39m hr:\n",
      "File \u001b[1;32m~\\anaconda3\\lib\\site-packages\\pandas\\io\\parsers\\python_parser.py:596\u001b[0m, in \u001b[0;36mPythonParser._buffered_line\u001b[1;34m(self)\u001b[0m\n\u001b[0;32m    595\u001b[0m \u001b[38;5;28;01melse\u001b[39;00m:\n\u001b[1;32m--> 596\u001b[0m     \u001b[38;5;28;01mreturn\u001b[39;00m \u001b[38;5;28;43mself\u001b[39;49m\u001b[38;5;241;43m.\u001b[39;49m\u001b[43m_next_line\u001b[49m\u001b[43m(\u001b[49m\u001b[43m)\u001b[49m\n",
      "File \u001b[1;32m~\\anaconda3\\lib\\site-packages\\pandas\\io\\parsers\\python_parser.py:696\u001b[0m, in \u001b[0;36mPythonParser._next_line\u001b[1;34m(self)\u001b[0m\n\u001b[0;32m    695\u001b[0m \u001b[38;5;28;01mwhile\u001b[39;00m \u001b[38;5;28;01mTrue\u001b[39;00m:\n\u001b[1;32m--> 696\u001b[0m     orig_line \u001b[38;5;241m=\u001b[39m \u001b[38;5;28;43mself\u001b[39;49m\u001b[38;5;241;43m.\u001b[39;49m\u001b[43m_next_iter_line\u001b[49m\u001b[43m(\u001b[49m\u001b[43mrow_num\u001b[49m\u001b[38;5;241;43m=\u001b[39;49m\u001b[38;5;28;43mself\u001b[39;49m\u001b[38;5;241;43m.\u001b[39;49m\u001b[43mpos\u001b[49m\u001b[43m \u001b[49m\u001b[38;5;241;43m+\u001b[39;49m\u001b[43m \u001b[49m\u001b[38;5;241;43m1\u001b[39;49m\u001b[43m)\u001b[49m\n\u001b[0;32m    697\u001b[0m     \u001b[38;5;28mself\u001b[39m\u001b[38;5;241m.\u001b[39mpos \u001b[38;5;241m+\u001b[39m\u001b[38;5;241m=\u001b[39m \u001b[38;5;241m1\u001b[39m\n",
      "File \u001b[1;32m~\\anaconda3\\lib\\site-packages\\pandas\\io\\parsers\\python_parser.py:760\u001b[0m, in \u001b[0;36mPythonParser._next_iter_line\u001b[1;34m(self, row_num)\u001b[0m\n\u001b[0;32m    759\u001b[0m \u001b[38;5;28;01massert\u001b[39;00m \u001b[38;5;28mself\u001b[39m\u001b[38;5;241m.\u001b[39mdata \u001b[38;5;129;01mis\u001b[39;00m \u001b[38;5;129;01mnot\u001b[39;00m \u001b[38;5;28;01mNone\u001b[39;00m\n\u001b[1;32m--> 760\u001b[0m line \u001b[38;5;241m=\u001b[39m \u001b[38;5;28;43mnext\u001b[39;49m\u001b[43m(\u001b[49m\u001b[38;5;28;43mself\u001b[39;49m\u001b[38;5;241;43m.\u001b[39;49m\u001b[43mdata\u001b[49m\u001b[43m)\u001b[49m\n\u001b[0;32m    761\u001b[0m \u001b[38;5;66;03m# for mypy\u001b[39;00m\n",
      "\u001b[1;31mStopIteration\u001b[0m: ",
      "\nThe above exception was the direct cause of the following exception:\n",
      "\u001b[1;31mEmptyDataError\u001b[0m                            Traceback (most recent call last)",
      "Input \u001b[1;32mIn [2]\u001b[0m, in \u001b[0;36m<cell line: 1>\u001b[1;34m()\u001b[0m\n\u001b[1;32m----> 1\u001b[0m movies \u001b[38;5;241m=\u001b[39m \u001b[43mpd\u001b[49m\u001b[38;5;241;43m.\u001b[39;49m\u001b[43mread_clipboard\u001b[49m\u001b[43m(\u001b[49m\u001b[43m)\u001b[49m\n",
      "File \u001b[1;32m~\\anaconda3\\lib\\site-packages\\pandas\\io\\clipboards.py:85\u001b[0m, in \u001b[0;36mread_clipboard\u001b[1;34m(sep, **kwargs)\u001b[0m\n\u001b[0;32m     80\u001b[0m \u001b[38;5;28;01melif\u001b[39;00m \u001b[38;5;28mlen\u001b[39m(sep) \u001b[38;5;241m>\u001b[39m \u001b[38;5;241m1\u001b[39m \u001b[38;5;129;01mand\u001b[39;00m kwargs\u001b[38;5;241m.\u001b[39mget(\u001b[38;5;124m\"\u001b[39m\u001b[38;5;124mengine\u001b[39m\u001b[38;5;124m\"\u001b[39m) \u001b[38;5;241m==\u001b[39m \u001b[38;5;124m\"\u001b[39m\u001b[38;5;124mc\u001b[39m\u001b[38;5;124m\"\u001b[39m:\n\u001b[0;32m     81\u001b[0m     warnings\u001b[38;5;241m.\u001b[39mwarn(\n\u001b[0;32m     82\u001b[0m         \u001b[38;5;124m\"\u001b[39m\u001b[38;5;124mread_clipboard with regex separator does not work properly with c engine.\u001b[39m\u001b[38;5;124m\"\u001b[39m\n\u001b[0;32m     83\u001b[0m     )\n\u001b[1;32m---> 85\u001b[0m \u001b[38;5;28;01mreturn\u001b[39;00m read_csv(StringIO(text), sep\u001b[38;5;241m=\u001b[39msep, \u001b[38;5;241m*\u001b[39m\u001b[38;5;241m*\u001b[39mkwargs)\n",
      "File \u001b[1;32m~\\anaconda3\\lib\\site-packages\\pandas\\util\\_decorators.py:311\u001b[0m, in \u001b[0;36mdeprecate_nonkeyword_arguments.<locals>.decorate.<locals>.wrapper\u001b[1;34m(*args, **kwargs)\u001b[0m\n\u001b[0;32m    305\u001b[0m \u001b[38;5;28;01mif\u001b[39;00m \u001b[38;5;28mlen\u001b[39m(args) \u001b[38;5;241m>\u001b[39m num_allow_args:\n\u001b[0;32m    306\u001b[0m     warnings\u001b[38;5;241m.\u001b[39mwarn(\n\u001b[0;32m    307\u001b[0m         msg\u001b[38;5;241m.\u001b[39mformat(arguments\u001b[38;5;241m=\u001b[39marguments),\n\u001b[0;32m    308\u001b[0m         \u001b[38;5;167;01mFutureWarning\u001b[39;00m,\n\u001b[0;32m    309\u001b[0m         stacklevel\u001b[38;5;241m=\u001b[39mstacklevel,\n\u001b[0;32m    310\u001b[0m     )\n\u001b[1;32m--> 311\u001b[0m \u001b[38;5;28;01mreturn\u001b[39;00m func(\u001b[38;5;241m*\u001b[39margs, \u001b[38;5;241m*\u001b[39m\u001b[38;5;241m*\u001b[39mkwargs)\n",
      "File \u001b[1;32m~\\anaconda3\\lib\\site-packages\\pandas\\io\\parsers\\readers.py:680\u001b[0m, in \u001b[0;36mread_csv\u001b[1;34m(filepath_or_buffer, sep, delimiter, header, names, index_col, usecols, squeeze, prefix, mangle_dupe_cols, dtype, engine, converters, true_values, false_values, skipinitialspace, skiprows, skipfooter, nrows, na_values, keep_default_na, na_filter, verbose, skip_blank_lines, parse_dates, infer_datetime_format, keep_date_col, date_parser, dayfirst, cache_dates, iterator, chunksize, compression, thousands, decimal, lineterminator, quotechar, quoting, doublequote, escapechar, comment, encoding, encoding_errors, dialect, error_bad_lines, warn_bad_lines, on_bad_lines, delim_whitespace, low_memory, memory_map, float_precision, storage_options)\u001b[0m\n\u001b[0;32m    665\u001b[0m kwds_defaults \u001b[38;5;241m=\u001b[39m _refine_defaults_read(\n\u001b[0;32m    666\u001b[0m     dialect,\n\u001b[0;32m    667\u001b[0m     delimiter,\n\u001b[1;32m   (...)\u001b[0m\n\u001b[0;32m    676\u001b[0m     defaults\u001b[38;5;241m=\u001b[39m{\u001b[38;5;124m\"\u001b[39m\u001b[38;5;124mdelimiter\u001b[39m\u001b[38;5;124m\"\u001b[39m: \u001b[38;5;124m\"\u001b[39m\u001b[38;5;124m,\u001b[39m\u001b[38;5;124m\"\u001b[39m},\n\u001b[0;32m    677\u001b[0m )\n\u001b[0;32m    678\u001b[0m kwds\u001b[38;5;241m.\u001b[39mupdate(kwds_defaults)\n\u001b[1;32m--> 680\u001b[0m \u001b[38;5;28;01mreturn\u001b[39;00m \u001b[43m_read\u001b[49m\u001b[43m(\u001b[49m\u001b[43mfilepath_or_buffer\u001b[49m\u001b[43m,\u001b[49m\u001b[43m \u001b[49m\u001b[43mkwds\u001b[49m\u001b[43m)\u001b[49m\n",
      "File \u001b[1;32m~\\anaconda3\\lib\\site-packages\\pandas\\io\\parsers\\readers.py:575\u001b[0m, in \u001b[0;36m_read\u001b[1;34m(filepath_or_buffer, kwds)\u001b[0m\n\u001b[0;32m    572\u001b[0m _validate_names(kwds\u001b[38;5;241m.\u001b[39mget(\u001b[38;5;124m\"\u001b[39m\u001b[38;5;124mnames\u001b[39m\u001b[38;5;124m\"\u001b[39m, \u001b[38;5;28;01mNone\u001b[39;00m))\n\u001b[0;32m    574\u001b[0m \u001b[38;5;66;03m# Create the parser.\u001b[39;00m\n\u001b[1;32m--> 575\u001b[0m parser \u001b[38;5;241m=\u001b[39m TextFileReader(filepath_or_buffer, \u001b[38;5;241m*\u001b[39m\u001b[38;5;241m*\u001b[39mkwds)\n\u001b[0;32m    577\u001b[0m \u001b[38;5;28;01mif\u001b[39;00m chunksize \u001b[38;5;129;01mor\u001b[39;00m iterator:\n\u001b[0;32m    578\u001b[0m     \u001b[38;5;28;01mreturn\u001b[39;00m parser\n",
      "File \u001b[1;32m~\\anaconda3\\lib\\site-packages\\pandas\\io\\parsers\\readers.py:933\u001b[0m, in \u001b[0;36mTextFileReader.__init__\u001b[1;34m(self, f, engine, **kwds)\u001b[0m\n\u001b[0;32m    930\u001b[0m     \u001b[38;5;28mself\u001b[39m\u001b[38;5;241m.\u001b[39moptions[\u001b[38;5;124m\"\u001b[39m\u001b[38;5;124mhas_index_names\u001b[39m\u001b[38;5;124m\"\u001b[39m] \u001b[38;5;241m=\u001b[39m kwds[\u001b[38;5;124m\"\u001b[39m\u001b[38;5;124mhas_index_names\u001b[39m\u001b[38;5;124m\"\u001b[39m]\n\u001b[0;32m    932\u001b[0m \u001b[38;5;28mself\u001b[39m\u001b[38;5;241m.\u001b[39mhandles: IOHandles \u001b[38;5;241m|\u001b[39m \u001b[38;5;28;01mNone\u001b[39;00m \u001b[38;5;241m=\u001b[39m \u001b[38;5;28;01mNone\u001b[39;00m\n\u001b[1;32m--> 933\u001b[0m \u001b[38;5;28mself\u001b[39m\u001b[38;5;241m.\u001b[39m_engine \u001b[38;5;241m=\u001b[39m \u001b[38;5;28;43mself\u001b[39;49m\u001b[38;5;241;43m.\u001b[39;49m\u001b[43m_make_engine\u001b[49m\u001b[43m(\u001b[49m\u001b[43mf\u001b[49m\u001b[43m,\u001b[49m\u001b[43m \u001b[49m\u001b[38;5;28;43mself\u001b[39;49m\u001b[38;5;241;43m.\u001b[39;49m\u001b[43mengine\u001b[49m\u001b[43m)\u001b[49m\n",
      "File \u001b[1;32m~\\anaconda3\\lib\\site-packages\\pandas\\io\\parsers\\readers.py:1235\u001b[0m, in \u001b[0;36mTextFileReader._make_engine\u001b[1;34m(self, f, engine)\u001b[0m\n\u001b[0;32m   1232\u001b[0m     \u001b[38;5;28;01mraise\u001b[39;00m \u001b[38;5;167;01mValueError\u001b[39;00m(msg)\n\u001b[0;32m   1234\u001b[0m \u001b[38;5;28;01mtry\u001b[39;00m:\n\u001b[1;32m-> 1235\u001b[0m     \u001b[38;5;28;01mreturn\u001b[39;00m mapping[engine](f, \u001b[38;5;241m*\u001b[39m\u001b[38;5;241m*\u001b[39m\u001b[38;5;28mself\u001b[39m\u001b[38;5;241m.\u001b[39moptions)\n\u001b[0;32m   1236\u001b[0m \u001b[38;5;28;01mexcept\u001b[39;00m \u001b[38;5;167;01mException\u001b[39;00m:\n\u001b[0;32m   1237\u001b[0m     \u001b[38;5;28;01mif\u001b[39;00m \u001b[38;5;28mself\u001b[39m\u001b[38;5;241m.\u001b[39mhandles \u001b[38;5;129;01mis\u001b[39;00m \u001b[38;5;129;01mnot\u001b[39;00m \u001b[38;5;28;01mNone\u001b[39;00m:\n",
      "File \u001b[1;32m~\\anaconda3\\lib\\site-packages\\pandas\\io\\parsers\\python_parser.py:115\u001b[0m, in \u001b[0;36mPythonParser.__init__\u001b[1;34m(self, f, **kwds)\u001b[0m\n\u001b[0;32m    109\u001b[0m \u001b[38;5;28mself\u001b[39m\u001b[38;5;241m.\u001b[39m_col_indices: \u001b[38;5;28mlist\u001b[39m[\u001b[38;5;28mint\u001b[39m] \u001b[38;5;241m|\u001b[39m \u001b[38;5;28;01mNone\u001b[39;00m \u001b[38;5;241m=\u001b[39m \u001b[38;5;28;01mNone\u001b[39;00m\n\u001b[0;32m    110\u001b[0m columns: \u001b[38;5;28mlist\u001b[39m[\u001b[38;5;28mlist\u001b[39m[Scalar \u001b[38;5;241m|\u001b[39m \u001b[38;5;28;01mNone\u001b[39;00m]]\n\u001b[0;32m    111\u001b[0m (\n\u001b[0;32m    112\u001b[0m     columns,\n\u001b[0;32m    113\u001b[0m     \u001b[38;5;28mself\u001b[39m\u001b[38;5;241m.\u001b[39mnum_original_columns,\n\u001b[0;32m    114\u001b[0m     \u001b[38;5;28mself\u001b[39m\u001b[38;5;241m.\u001b[39munnamed_cols,\n\u001b[1;32m--> 115\u001b[0m ) \u001b[38;5;241m=\u001b[39m \u001b[38;5;28;43mself\u001b[39;49m\u001b[38;5;241;43m.\u001b[39;49m\u001b[43m_infer_columns\u001b[49m\u001b[43m(\u001b[49m\u001b[43m)\u001b[49m\n\u001b[0;32m    117\u001b[0m \u001b[38;5;66;03m# Now self.columns has the set of columns that we will process.\u001b[39;00m\n\u001b[0;32m    118\u001b[0m \u001b[38;5;66;03m# The original set is stored in self.original_columns.\u001b[39;00m\n\u001b[0;32m    119\u001b[0m \u001b[38;5;66;03m# error: Cannot determine type of 'index_names'\u001b[39;00m\n\u001b[0;32m    120\u001b[0m \u001b[38;5;28mself\u001b[39m\u001b[38;5;241m.\u001b[39mcolumns: \u001b[38;5;28mlist\u001b[39m[Hashable]\n",
      "File \u001b[1;32m~\\anaconda3\\lib\\site-packages\\pandas\\io\\parsers\\python_parser.py:386\u001b[0m, in \u001b[0;36mPythonParser._infer_columns\u001b[1;34m(self)\u001b[0m\n\u001b[0;32m    383\u001b[0m         \u001b[38;5;28;01mreturn\u001b[39;00m columns, num_original_columns, unnamed_cols\n\u001b[0;32m    385\u001b[0m     \u001b[38;5;28;01mif\u001b[39;00m \u001b[38;5;129;01mnot\u001b[39;00m \u001b[38;5;28mself\u001b[39m\u001b[38;5;241m.\u001b[39mnames:\n\u001b[1;32m--> 386\u001b[0m         \u001b[38;5;28;01mraise\u001b[39;00m EmptyDataError(\u001b[38;5;124m\"\u001b[39m\u001b[38;5;124mNo columns to parse from file\u001b[39m\u001b[38;5;124m\"\u001b[39m) \u001b[38;5;28;01mfrom\u001b[39;00m \u001b[38;5;21;01merr\u001b[39;00m\n\u001b[0;32m    388\u001b[0m     line \u001b[38;5;241m=\u001b[39m \u001b[38;5;28mself\u001b[39m\u001b[38;5;241m.\u001b[39mnames[:]\n\u001b[0;32m    390\u001b[0m this_columns: \u001b[38;5;28mlist\u001b[39m[Scalar \u001b[38;5;241m|\u001b[39m \u001b[38;5;28;01mNone\u001b[39;00m] \u001b[38;5;241m=\u001b[39m []\n",
      "\u001b[1;31mEmptyDataError\u001b[0m: No columns to parse from file"
     ]
    }
   ],
   "source": [
    "movies = pd.read_clipboard()"
   ]
  },
  {
   "cell_type": "code",
   "execution_count": null,
   "id": "572c8fb8-5dd2-494f-9d9e-3d96769e78f0",
   "metadata": {},
   "outputs": [],
   "source": [
    "movies"
   ]
  },
  {
   "cell_type": "code",
   "execution_count": null,
   "id": "b29cd1d2-acdb-4c30-8042-ff7678f99346",
   "metadata": {},
   "outputs": [],
   "source": [
    "movies=pd.read_csv(r'myMovies.csv')"
   ]
  },
  {
   "cell_type": "code",
   "execution_count": null,
   "id": "ff430be9-6911-4e19-9daf-54ba3c46a995",
   "metadata": {},
   "outputs": [],
   "source": [
    "movies"
   ]
  },
  {
   "cell_type": "code",
   "execution_count": null,
   "id": "ba0e36f3-9acd-4a6e-961c-c1a040d56c7e",
   "metadata": {},
   "outputs": [],
   "source": [
    "movies['id']"
   ]
  },
  {
   "cell_type": "code",
   "execution_count": null,
   "id": "cf32d35e-59e1-4839-b702-4a50b9d8b744",
   "metadata": {},
   "outputs": [],
   "source": [
    "movies['id'][1]"
   ]
  },
  {
   "cell_type": "code",
   "execution_count": null,
   "id": "fb63077d-a9ff-4c16-ae8f-7ed1d4867b2f",
   "metadata": {},
   "outputs": [],
   "source": [
    "movies['name'].max()"
   ]
  },
  {
   "cell_type": "code",
   "execution_count": null,
   "id": "b87ff37a-6498-4329-b3ef-79515ecde4c6",
   "metadata": {},
   "outputs": [],
   "source": [
    "movies['rating']=10"
   ]
  },
  {
   "cell_type": "code",
   "execution_count": null,
   "id": "75de7b3e-aead-4edb-9fe7-d2689ad19d30",
   "metadata": {},
   "outputs": [],
   "source": [
    "c=movies['rating']=10"
   ]
  },
  {
   "cell_type": "code",
   "execution_count": null,
   "id": "329da80e-5325-42ed-9e6f-8ebf10664dfe",
   "metadata": {},
   "outputs": [],
   "source": [
    "c"
   ]
  },
  {
   "cell_type": "code",
   "execution_count": null,
   "id": "d8570c46-2951-424c-941f-1ff4dcc712ca",
   "metadata": {},
   "outputs": [],
   "source": [
    "c"
   ]
  },
  {
   "cell_type": "code",
   "execution_count": null,
   "id": "10f4f3eb-7f2c-4266-8073-bd54863ed559",
   "metadata": {},
   "outputs": [],
   "source": [
    "movies"
   ]
  },
  {
   "cell_type": "code",
   "execution_count": null,
   "id": "6dcdd1fc-4946-4d82-a8ed-c7f4f7dbdbd2",
   "metadata": {},
   "outputs": [],
   "source": [
    "movies=pd.read_csv(r'myMovies.csv')"
   ]
  },
  {
   "cell_type": "code",
   "execution_count": null,
   "id": "0ba272ee-fdad-426f-b647-c236e01d32c8",
   "metadata": {},
   "outputs": [],
   "source": [
    "movies"
   ]
  },
  {
   "cell_type": "code",
   "execution_count": null,
   "id": "0c994be4-d030-448a-8b32-ca2e91037eb8",
   "metadata": {},
   "outputs": [],
   "source": [
    "movies['name'].max()"
   ]
  },
  {
   "cell_type": "code",
   "execution_count": null,
   "id": "b6c7eeff-05d8-44fa-8194-c035985947b9",
   "metadata": {},
   "outputs": [],
   "source": [
    "movies['rating']>=10"
   ]
  },
  {
   "cell_type": "code",
   "execution_count": null,
   "id": "31d7e197-e8b3-459e-afa5-bce592cd0ea3",
   "metadata": {},
   "outputs": [],
   "source": [
    "d=movies['rating']>=10"
   ]
  },
  {
   "cell_type": "code",
   "execution_count": null,
   "id": "c29e9324-edca-4d08-9a0f-63cb5cabd8d2",
   "metadata": {},
   "outputs": [],
   "source": [
    "d"
   ]
  },
  {
   "cell_type": "code",
   "execution_count": null,
   "id": "c85c7b75-7bd1-430a-b1ab-4ae739ffd2b0",
   "metadata": {},
   "outputs": [],
   "source": [
    "movies[d]"
   ]
  },
  {
   "cell_type": "code",
   "execution_count": null,
   "id": "3c2b6ae7-1aed-42f8-a972-ebbf77238b40",
   "metadata": {},
   "outputs": [],
   "source": [
    "movies['industry'].count()"
   ]
  },
  {
   "cell_type": "code",
   "execution_count": null,
   "id": "ae48536c-c868-484e-ac92-7a9a786d48c8",
   "metadata": {},
   "outputs": [],
   "source": [
    "e=set(movies['industry'])"
   ]
  },
  {
   "cell_type": "code",
   "execution_count": null,
   "id": "4b1137a7-42ea-456a-a1d2-3b255a1450b0",
   "metadata": {},
   "outputs": [],
   "source": [
    "e"
   ]
  },
  {
   "cell_type": "code",
   "execution_count": null,
   "id": "497264b0-1ce6-4043-a4c7-aec25fefdb19",
   "metadata": {},
   "outputs": [],
   "source": [
    "len(e)"
   ]
  },
  {
   "cell_type": "code",
   "execution_count": null,
   "id": "23fcc0da-a7c0-4a16-8a6c-e78c3b975ff8",
   "metadata": {},
   "outputs": [],
   "source": [
    "movies['duration'].max()"
   ]
  },
  {
   "cell_type": "code",
   "execution_count": null,
   "id": "b006ded3-0b17-41d5-88ce-f50dfadad6b4",
   "metadata": {},
   "outputs": [],
   "source": [
    "movies['duration'].argmax()"
   ]
  },
  {
   "cell_type": "code",
   "execution_count": null,
   "id": "16fcb675-dd63-49e9-9f9a-f1b46fee6a3f",
   "metadata": {},
   "outputs": [],
   "source": [
    "movies['name'][movies['duration'].argmax()]"
   ]
  },
  {
   "cell_type": "code",
   "execution_count": null,
   "id": "31bf8916-3ea2-40e3-82be-ce8b7f699eb2",
   "metadata": {},
   "outputs": [],
   "source": [
    "movies['name'][7]"
   ]
  },
  {
   "cell_type": "code",
   "execution_count": null,
   "id": "3d85b827-85e5-4982-9d86-4cb925424196",
   "metadata": {},
   "outputs": [],
   "source": [
    "movies['genre'][0]"
   ]
  },
  {
   "cell_type": "code",
   "execution_count": null,
   "id": "7de2eba9-f9f5-4140-8aab-ee8f561b326c",
   "metadata": {},
   "outputs": [],
   "source": [
    "len(movies['rating']>=10)"
   ]
  },
  {
   "cell_type": "code",
   "execution_count": null,
   "id": "5bcd6085-9736-43a0-9213-05eb2aa919f0",
   "metadata": {},
   "outputs": [],
   "source": [
    "e"
   ]
  },
  {
   "cell_type": "code",
   "execution_count": null,
   "id": "0a524598-939f-4b44-8b97-b9a610d03b48",
   "metadata": {},
   "outputs": [],
   "source": [
    "len(d)"
   ]
  },
  {
   "cell_type": "code",
   "execution_count": null,
   "id": "4ed6769d-d624-48a0-b818-aa4544f347f7",
   "metadata": {},
   "outputs": [],
   "source": [
    "movies[d]"
   ]
  },
  {
   "cell_type": "code",
   "execution_count": null,
   "id": "46010543-023f-4b88-b5b3-df24c0224d86",
   "metadata": {},
   "outputs": [],
   "source": [
    "movies[d].count()"
   ]
  },
  {
   "cell_type": "code",
   "execution_count": null,
   "id": "c2be143b-a9d5-4a1a-a601-2864f0fb2a7a",
   "metadata": {},
   "outputs": [],
   "source": [
    "len(movies['rating']==10)"
   ]
  },
  {
   "cell_type": "code",
   "execution_count": null,
   "id": "6564bbad-dbbf-40dd-a749-7ad4cbf02904",
   "metadata": {},
   "outputs": [],
   "source": [
    "movies['duration'].max()"
   ]
  },
  {
   "cell_type": "code",
   "execution_count": null,
   "id": "160bcc0b-5689-4b2c-8654-2d2b757d0045",
   "metadata": {},
   "outputs": [],
   "source": [
    "movies['rating']==10"
   ]
  },
  {
   "cell_type": "code",
   "execution_count": null,
   "id": "3a20f531-ba64-4535-9930-2d8f1a8559d1",
   "metadata": {},
   "outputs": [],
   "source": [
    "len(movies['name'][movies['rating']==10])"
   ]
  },
  {
   "cell_type": "code",
   "execution_count": null,
   "id": "9f55d878-6758-478d-b245-4bcd9b1b6c36",
   "metadata": {},
   "outputs": [],
   "source": []
  },
  {
   "cell_type": "code",
   "execution_count": null,
   "id": "e321fa70-82d5-4f40-85ca-a900e1be056e",
   "metadata": {},
   "outputs": [],
   "source": [
    "movies['name'][movies['rating']==10]"
   ]
  },
  {
   "cell_type": "code",
   "execution_count": null,
   "id": "d976126d-5af5-4a2c-b26f-079ffc382280",
   "metadata": {},
   "outputs": [],
   "source": [
    "len(movies['rating']==10)"
   ]
  },
  {
   "cell_type": "code",
   "execution_count": null,
   "id": "0a898268-89ec-47b8-8254-e01f9193e913",
   "metadata": {},
   "outputs": [],
   "source": [
    "len(movies['name'][movies['rating']==10])"
   ]
  },
  {
   "cell_type": "code",
   "execution_count": null,
   "id": "5fad7156-d9aa-4099-b52d-d9aa92044e9f",
   "metadata": {},
   "outputs": [],
   "source": [
    "movies['name'][movies['rating']==10]"
   ]
  },
  {
   "cell_type": "code",
   "execution_count": null,
   "id": "e72a9dc8-3a02-4e21-a44b-9e4c670fc5de",
   "metadata": {},
   "outputs": [],
   "source": [
    "d=movies['rating']==10"
   ]
  },
  {
   "cell_type": "code",
   "execution_count": null,
   "id": "a02d413c-f978-4054-9c7b-2b672bd17a92",
   "metadata": {},
   "outputs": [],
   "source": [
    "movies[d]"
   ]
  },
  {
   "cell_type": "code",
   "execution_count": null,
   "id": "20038fe6-95d6-44c5-b4b0-f50f827152f4",
   "metadata": {},
   "outputs": [],
   "source": [
    "len(movies[d])"
   ]
  },
  {
   "cell_type": "code",
   "execution_count": null,
   "id": "c3ef7146-6ab5-4c09-b710-22c2272943c5",
   "metadata": {},
   "outputs": [],
   "source": [
    "f=movies['genre']=='Comedy'"
   ]
  },
  {
   "cell_type": "code",
   "execution_count": null,
   "id": "971b9eb9-8ed8-4ada-8390-91fc91b6fece",
   "metadata": {},
   "outputs": [],
   "source": [
    "sum(d)"
   ]
  },
  {
   "cell_type": "code",
   "execution_count": null,
   "id": "ad7a91e4-d326-4460-bd41-36d9ef3e598f",
   "metadata": {},
   "outputs": [],
   "source": [
    "f"
   ]
  },
  {
   "cell_type": "code",
   "execution_count": null,
   "id": "5110644f-f27f-4f1e-a949-74599e724213",
   "metadata": {},
   "outputs": [],
   "source": [
    "movies['name'][f]"
   ]
  },
  {
   "cell_type": "code",
   "execution_count": null,
   "id": "3359a28f-970b-4e3b-942f-2ad1af5b6b4f",
   "metadata": {},
   "outputs": [],
   "source": [
    "movies[f]"
   ]
  },
  {
   "cell_type": "code",
   "execution_count": null,
   "id": "889faffd-7445-489d-a44e-2de635a82a8c",
   "metadata": {},
   "outputs": [],
   "source": [
    "m=movies[f]"
   ]
  },
  {
   "cell_type": "code",
   "execution_count": null,
   "id": "90c9b369-f19f-4f2a-8803-306f99081091",
   "metadata": {},
   "outputs": [],
   "source": [
    "m"
   ]
  },
  {
   "cell_type": "code",
   "execution_count": null,
   "id": "b9594225-dea9-4241-9da9-3b4529d846bc",
   "metadata": {},
   "outputs": [],
   "source": [
    "m['rating'].argmax()"
   ]
  },
  {
   "cell_type": "code",
   "execution_count": null,
   "id": "2d6884df-5cf1-4ea9-a16c-25bb916cb6b2",
   "metadata": {},
   "outputs": [],
   "source": [
    "len(movies['industry'].value_counts())"
   ]
  },
  {
   "cell_type": "code",
   "execution_count": null,
   "id": "88ee316e-b5d2-495d-8545-91821c03c98a",
   "metadata": {},
   "outputs": [],
   "source": [
    "movies['industry'].nunique()"
   ]
  },
  {
   "cell_type": "code",
   "execution_count": null,
   "id": "0fc40981-c5a2-41b2-96bb-d048347431b4",
   "metadata": {},
   "outputs": [],
   "source": [
    "movies['industry'].unique()"
   ]
  },
  {
   "cell_type": "code",
   "execution_count": null,
   "id": "fa8e8c1e-042b-41fe-ae76-238a36156a62",
   "metadata": {},
   "outputs": [],
   "source": [
    "m.min()"
   ]
  },
  {
   "cell_type": "code",
   "execution_count": null,
   "id": "59d9b646-8043-4fc1-8f60-78630c5c355f",
   "metadata": {},
   "outputs": [],
   "source": [
    "x=m['rating'].min()"
   ]
  },
  {
   "cell_type": "code",
   "execution_count": null,
   "id": "ad6f3ed0-35cf-4cf0-9a4d-7e1fb3e2d2d1",
   "metadata": {},
   "outputs": [],
   "source": [
    "m['name'][m['rating']==x]"
   ]
  },
  {
   "cell_type": "code",
   "execution_count": null,
   "id": "9dbbb4da-cb16-419a-8d3d-fc4de6826a84",
   "metadata": {},
   "outputs": [],
   "source": [
    "movies['name'][movies[movies['genre']=='Comedy']['rating'].idxmin()]"
   ]
  },
  {
   "cell_type": "code",
   "execution_count": null,
   "id": "1658538f-abb9-4929-8edb-552f0d60c8a7",
   "metadata": {},
   "outputs": [],
   "source": [
    "m[e]"
   ]
  },
  {
   "cell_type": "code",
   "execution_count": null,
   "id": "94689913-2ee1-4425-be64-66e953b89119",
   "metadata": {},
   "outputs": [],
   "source": [
    "e['name'][e['rating']==e['rating'].min()]"
   ]
  },
  {
   "cell_type": "code",
   "execution_count": null,
   "id": "fc40b4fc-92be-4a88-8542-d1641de4fa0f",
   "metadata": {},
   "outputs": [],
   "source": [
    "movies['name'][movies[movies['language']=='English']['duration'].idxmax()]"
   ]
  },
  {
   "cell_type": "code",
   "execution_count": null,
   "id": "624c1500-e9e7-4839-bfda-1a7516d17007",
   "metadata": {},
   "outputs": [],
   "source": [
    "movies['name']"
   ]
  },
  {
   "cell_type": "code",
   "execution_count": null,
   "id": "80fb89b4-b21a-46a5-aa68-e90af584c6c7",
   "metadata": {},
   "outputs": [],
   "source": [
    "movies['genre'][movies['name']=='Intersteller'].values[0]"
   ]
  },
  {
   "cell_type": "code",
   "execution_count": null,
   "id": "a457a790-8af1-498d-958e-17c6529e5131",
   "metadata": {},
   "outputs": [],
   "source": [
    "movies['genre'][movies['name'].str.lower()=='Intersteller'.lower()].values[0]"
   ]
  },
  {
   "cell_type": "code",
   "execution_count": null,
   "id": "f7bd40c0-9813-4dcd-bac4-3b11a5cef74e",
   "metadata": {},
   "outputs": [],
   "source": [
    "n=movies['name']"
   ]
  },
  {
   "cell_type": "code",
   "execution_count": null,
   "id": "9e60b000-81d2-4e6e-b12d-bd32d0447969",
   "metadata": {},
   "outputs": [],
   "source": [
    "n.tolist()"
   ]
  },
  {
   "cell_type": "code",
   "execution_count": null,
   "id": "b0572fc0-25ef-4f26-a81c-1e8bba795ad4",
   "metadata": {},
   "outputs": [],
   "source": [
    "n.str.count('e')"
   ]
  },
  {
   "cell_type": "code",
   "execution_count": null,
   "id": "9928724a-dc6b-4194-beb4-31f28dced806",
   "metadata": {},
   "outputs": [],
   "source": [
    "n.str.endswith('e')"
   ]
  },
  {
   "cell_type": "code",
   "execution_count": null,
   "id": "e641d086-1394-49a4-a98e-5b6c2a80c920",
   "metadata": {},
   "outputs": [],
   "source": [
    "n.str.find('i')"
   ]
  },
  {
   "cell_type": "code",
   "execution_count": null,
   "id": "5cbc7c30-4bd1-4fdc-b390-4e87f6db3cdb",
   "metadata": {},
   "outputs": [],
   "source": [
    "n.str.get(0)"
   ]
  },
  {
   "cell_type": "code",
   "execution_count": null,
   "id": "48f50304-5d2b-4bde-bb8c-98e7c2351a9a",
   "metadata": {},
   "outputs": [],
   "source": [
    "n.str.get_dummies()"
   ]
  },
  {
   "cell_type": "code",
   "execution_count": null,
   "id": "bd0b3934-4af4-4565-ac0a-f286277e0e8c",
   "metadata": {},
   "outputs": [],
   "source": [
    "n=movies['industry']"
   ]
  },
  {
   "cell_type": "code",
   "execution_count": null,
   "id": "be8e2ccd-b6e5-44cf-bfb3-05bc67a000fe",
   "metadata": {},
   "outputs": [],
   "source": [
    "n.str.get_dummies()"
   ]
  },
  {
   "cell_type": "code",
   "execution_count": null,
   "id": "2cfec9ff-2558-4875-97d2-0c1b231825f8",
   "metadata": {},
   "outputs": [],
   "source": [
    "n=movies['name']"
   ]
  },
  {
   "cell_type": "code",
   "execution_count": null,
   "id": "adc322e5-c942-42b4-9da7-93270edce049",
   "metadata": {},
   "outputs": [],
   "source": [
    "#n.str.index('e')"
   ]
  },
  {
   "cell_type": "code",
   "execution_count": null,
   "id": "a89a1e34-187b-45d1-a936-4227a02c7347",
   "metadata": {},
   "outputs": [],
   "source": [
    "n.str.split('e').str.join('--*--')"
   ]
  },
  {
   "cell_type": "code",
   "execution_count": null,
   "id": "fb2005d4-2323-4668-91a8-b94520b4fd6d",
   "metadata": {},
   "outputs": [],
   "source": [
    "n.str.strip()"
   ]
  },
  {
   "cell_type": "code",
   "execution_count": null,
   "id": "a4416ad9-73a3-4132-8f9c-7cb2811cca38",
   "metadata": {},
   "outputs": [],
   "source": [
    "movies['genre'][movies['name'].str.strip().str.lower()=='Intersteller'.lower()].values[0]"
   ]
  },
  {
   "cell_type": "code",
   "execution_count": null,
   "id": "d992e6ac-6cd3-4513-a3bf-3d0f48dacb1d",
   "metadata": {},
   "outputs": [],
   "source": [
    "movies['genre'].unique"
   ]
  },
  {
   "cell_type": "code",
   "execution_count": null,
   "id": "bff52e27-e1f6-47c8-a032-e9e015280e9f",
   "metadata": {},
   "outputs": [],
   "source": [
    "for genre in movies['genre'].unique():\n",
    "    print(genre, movies[movies['genre']==genre]['duration'].mean())"
   ]
  },
  {
   "cell_type": "code",
   "execution_count": null,
   "id": "cc7c4fd8-0e37-4ee4-8a08-6025c0e5c5cc",
   "metadata": {},
   "outputs": [],
   "source": [
    "movies.groupby('genre')['duration'].mean()"
   ]
  },
  {
   "cell_type": "code",
   "execution_count": null,
   "id": "3cd47a10-fef8-4641-a579-ddb3ba757133",
   "metadata": {},
   "outputs": [],
   "source": [
    "movies.groupby(['industry','genre'])['duration'].mean()"
   ]
  },
  {
   "cell_type": "code",
   "execution_count": null,
   "id": "46968fce-3965-455c-a1f6-9e81f426cb91",
   "metadata": {},
   "outputs": [],
   "source": [
    "movies"
   ]
  },
  {
   "cell_type": "code",
   "execution_count": null,
   "id": "61361d01-4572-42ac-899b-7512cae95b28",
   "metadata": {},
   "outputs": [],
   "source": [
    "movies.describe"
   ]
  },
  {
   "cell_type": "code",
   "execution_count": null,
   "id": "13cf44d3-d11a-4602-939a-cb45850fd18d",
   "metadata": {},
   "outputs": [],
   "source": [
    "movies.drop('id',axis=1, inplace=True)"
   ]
  },
  {
   "cell_type": "code",
   "execution_count": null,
   "id": "5384dc60-bf0f-4d92-bac0-dd4e860e4db6",
   "metadata": {},
   "outputs": [],
   "source": [
    "movies"
   ]
  },
  {
   "cell_type": "code",
   "execution_count": null,
   "id": "e85589e8-1f5e-4156-b58d-a05eacff2341",
   "metadata": {},
   "outputs": [],
   "source": [
    "movies.groupby('industry')['rating'].mean()"
   ]
  },
  {
   "cell_type": "code",
   "execution_count": null,
   "id": "b74f3f2d-5fe3-429d-a97b-623dfe45ce33",
   "metadata": {},
   "outputs": [],
   "source": [
    "movies.groupby(['industry','genre'])['rating'].mean()"
   ]
  },
  {
   "cell_type": "code",
   "execution_count": null,
   "id": "df780e7d-7e2c-4755-8752-774bd059a7e1",
   "metadata": {},
   "outputs": [],
   "source": [
    "movies=pd.read_csv(r\"myMovies.csv\",index_col=0)"
   ]
  },
  {
   "cell_type": "code",
   "execution_count": null,
   "id": "d95f4d6b-ad0c-4e58-be8d-a996b9d8ef57",
   "metadata": {},
   "outputs": [],
   "source": [
    "movies"
   ]
  },
  {
   "cell_type": "code",
   "execution_count": null,
   "id": "b79fba81-b9e1-4a11-8a61-d64c9487df60",
   "metadata": {},
   "outputs": [],
   "source": [
    "movies['industry'][movies['genre']=='Romantic']"
   ]
  },
  {
   "cell_type": "code",
   "execution_count": null,
   "id": "8b7b0609-e376-46ed-955d-3ad9a2b1a3c2",
   "metadata": {},
   "outputs": [],
   "source": [
    "movies.describe(include='all')"
   ]
  },
  {
   "cell_type": "code",
   "execution_count": null,
   "id": "95a212ab-c577-4c2d-975c-f3e605dc038c",
   "metadata": {},
   "outputs": [],
   "source": [
    "movies.info()"
   ]
  },
  {
   "cell_type": "code",
   "execution_count": null,
   "id": "28d4f5c0-62ae-4320-9058-4e71f6dac55a",
   "metadata": {},
   "outputs": [],
   "source": [
    "movies.groupby('genre').describe().T"
   ]
  },
  {
   "cell_type": "code",
   "execution_count": null,
   "id": "48d9103d-62d7-44ed-bd51-c5b15dea2bff",
   "metadata": {},
   "outputs": [],
   "source": [
    "movies[movies['genre']=='Romantic'].groupby(['industry']).mean()"
   ]
  },
  {
   "cell_type": "code",
   "execution_count": null,
   "id": "086d3849-4737-4224-964f-d56229a17ead",
   "metadata": {},
   "outputs": [],
   "source": [
    "movies[movies['language']=='English'][['name','rating']].sort_values('rating',ascending=False)"
   ]
  },
  {
   "cell_type": "code",
   "execution_count": null,
   "id": "e10de14f-912a-496c-949b-33c8b9de5379",
   "metadata": {},
   "outputs": [],
   "source": []
  }
 ],
 "metadata": {
  "kernelspec": {
   "display_name": "Python 3 (ipykernel)",
   "language": "python",
   "name": "python3"
  },
  "language_info": {
   "codemirror_mode": {
    "name": "ipython",
    "version": 3
   },
   "file_extension": ".py",
   "mimetype": "text/x-python",
   "name": "python",
   "nbconvert_exporter": "python",
   "pygments_lexer": "ipython3",
   "version": "3.9.12"
  }
 },
 "nbformat": 4,
 "nbformat_minor": 5
}
